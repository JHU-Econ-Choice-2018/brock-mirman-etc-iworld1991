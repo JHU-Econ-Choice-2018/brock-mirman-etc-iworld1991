{
 "cells": [
  {
   "cell_type": "markdown",
   "metadata": {},
   "source": [
    "# Capital Dynamics in a Stochastic Growth Model"
   ]
  },
  {
   "cell_type": "markdown",
   "metadata": {},
   "source": [
    "The handout [BrockMirman](http://econ.jhu.edu/people/ccarroll/public/lecturenotes/DSGEmodels/BrockMirman) derived   some facts about a special case of a representative agent DSGE model where analytical results can be obtained.  This exercise asks you to explore this model and closely related ones further, numerically, by adapting tools from the [QuantEcon](https://lectures.quantecon.org/py/) treatment of [optimal growth](https://lectures.quantecon.org/py/optgrowth.html) (you should download their Jupyter notebook to get a start)."
   ]
  },
  {
   "cell_type": "markdown",
   "metadata": {},
   "source": [
    "## Calculate theoretical variance of $k$\n",
    "The handout shows that if the productivity shocks $\\phi_{t}$ are iid and have variance $\\sigma^{2}_{\\phi}$ then\n",
    "\n",
    "$$\\newcommand{\\var}{\\text{var}}$$\n",
    "\\begin{eqnarray}\n",
    "k_{t+1} & = & \\log \\alpha \\beta + \\alpha k_{t} + \\phi_{t}\n",
    "\\end{eqnarray}\n",
    "\n",
    "Show that this implies that the variance of $k$ is \n",
    "\\begin{eqnarray}\n",
    " \\var(k) & = & \\frac{\\sigma^{2}_{\\phi}}{1-\\alpha^{2}}\n",
    "\\end{eqnarray}"
   ]
  },
  {
   "cell_type": "markdown",
   "metadata": {},
   "source": [
    "## Simulate the economy and calculate $\\var(k)$\n",
    "\n",
    "Now simulate the economy under the baseline parameter values and show that your simulation results correspond to the theoretical result"
   ]
  },
  {
   "cell_type": "markdown",
   "metadata": {},
   "source": [
    "## Suppose $\\phi_{t}$ is serially correlated\n",
    "\n",
    "Now we want to consider a case where the level of productivity $\\epsilon$ is serially correlated:\n",
    "\n",
    "\\begin{eqnarray}\n",
    "\\phi_{t} = \\zeta \\phi_{t-1} + \\nu_{t}\n",
    "\\end{eqnarray}\n",
    "\n",
    "for some shock $\\nu$ with variance $\\sigma^{2}_{\\nu}$ and a serial correlation coefficient $0 < \\zeta < 1$.  Calculate the variance of $k$ under this new assumption"
   ]
  },
  {
   "cell_type": "markdown",
   "metadata": {
    "hidden": true
   },
   "source": [
    "\\begin{eqnarray}\n",
    "\\epsilon_{t} & = & \\zeta \\epsilon_{t-1} + \\nu_{t}\n",
    "\\\\ \\var(\\epsilon) & = & \\frac{\\var(\\nu)}{1-\\zeta^{2}}\n",
    "\\end{eqnarray}\n",
    "so\n",
    "\\begin{eqnarray}\n",
    " \\var(k) & = & \\frac{\\sigma^{2}_{\\nu}}{(1-\\alpha^{2})(1-\\zeta^{2})}\n",
    "\\end{eqnarray}"
   ]
  },
  {
   "cell_type": "markdown",
   "metadata": {
    "heading_collapsed": true
   },
   "source": [
    "## Now Solve and Simulate the Model\n",
    "\n",
    "Use the tools provided on the QuantEcon website to solve the model.  Then, starting with a capital stock equal to the stochastic steady state, simulate the model for 100 periods five separate times.  Compare the variances you have calculated numerically to the formulas you derived analytically, and make some remarks about what this means for trying to calibrate the model to data by examining the variance of $k$ in empirical data."
   ]
  },
  {
   "cell_type": "markdown",
   "metadata": {
    "heading_collapsed": true
   },
   "source": [
    "## Now Do a Similar Exercise for the CRRA utility Model\n",
    "\n",
    "Use the QuantEcon code to solve the model for a value of relative risk aversion $\\rho = 3$.  Now calculate the variance of $k$ for this new model in the same way you did for the earlier model.  \n"
   ]
  },
  {
   "cell_type": "markdown",
   "metadata": {},
   "source": [
    "## Compare the Results to a linearized approximation\n",
    "\n",
    "Now numerically confirm the result from the BrockMirman handout that \n",
    "\n",
    "\\begin{eqnarray}\n",
    "  y_{t+1} & = & \\alpha (y_{t} + \\log \\alpha \\beta ) + \\phi_{t+1}\n",
    "\\end{eqnarray}"
   ]
  },
  {
   "cell_type": "markdown",
   "metadata": {},
   "source": [
    "Simulations go here"
   ]
  },
  {
   "cell_type": "markdown",
   "metadata": {},
   "source": [
    "To develop the rest of this problem, see the corresponding question DSGE-RA-K-Dynamics-Problems-and-Solutions.  In particular, need to plot the phase diagram and show how the consumption function changes with $\\rho$."
   ]
  }
 ],
 "metadata": {
  "jupytext": {
   "formats": "ipynb,py:percent",
   "text_representation": {
    "extension": ".py",
    "format_name": "percent",
    "format_version": "1.1",
    "jupytext_version": "0.8.3"
   }
  },
  "kernelspec": {
   "display_name": "Python 3",
   "language": "python",
   "name": "python3"
  },
  "language_info": {
   "codemirror_mode": {
    "name": "ipython",
    "version": 3
   },
   "file_extension": ".py",
   "mimetype": "text/x-python",
   "name": "python",
   "nbconvert_exporter": "python",
   "pygments_lexer": "ipython3",
   "version": "3.6.6"
  },
  "latex_envs": {
   "LaTeX_envs_menu_present": true,
   "autoclose": false,
   "autocomplete": true,
   "bibliofile": "biblio.bib",
   "cite_by": "apalike",
   "current_citInitial": 1,
   "eqLabelWithNumbers": true,
   "eqNumInitial": 1,
   "hotkeys": {
    "equation": "Ctrl-E",
    "itemize": "Ctrl-I"
   },
   "labels_anchors": false,
   "latex_user_defs": false,
   "report_style_numbering": false,
   "user_envs_cfg": false
  },
  "varInspector": {
   "cols": {
    "lenName": 16,
    "lenType": 16,
    "lenVar": 40
   },
   "kernels_config": {
    "python": {
     "delete_cmd_postfix": "",
     "delete_cmd_prefix": "del ",
     "library": "var_list.py",
     "varRefreshCmd": "print(var_dic_list())"
    },
    "r": {
     "delete_cmd_postfix": ") ",
     "delete_cmd_prefix": "rm(",
     "library": "var_list.r",
     "varRefreshCmd": "cat(var_dic_list()) "
    }
   },
   "types_to_exclude": [
    "module",
    "function",
    "builtin_function_or_method",
    "instance",
    "_Feature"
   ],
   "window_display": false
  }
 },
 "nbformat": 4,
 "nbformat_minor": 2
}
